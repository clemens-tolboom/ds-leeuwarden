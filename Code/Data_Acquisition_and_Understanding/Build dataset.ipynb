{
 "cells": [
  {
   "cell_type": "code",
   "execution_count": null,
   "metadata": {},
   "outputs": [],
   "source": [
    "from pandas import DataFrame, read_csv\n",
    "\n",
    "import matplotlib.pyplot as plt\n",
    "import pandas as pd\n",
    "import sys\n",
    "import matplotlib\n",
    "\n",
    "# Enable inline plotting\n",
    "%matplotlib inline"
   ]
  },
  {
   "cell_type": "code",
   "execution_count": null,
   "metadata": {},
   "outputs": [],
   "source": [
    "print('Python version ' + sys.version)\n",
    "print('Pandas version ' + pd.__version__)\n",
    "print('Matplotlib version ' + matplotlib.__version__)"
   ]
  },
  {
   "cell_type": "code",
   "execution_count": null,
   "metadata": {},
   "outputs": [],
   "source": [
    "files_dir = '../../../leeuwarden_data/';\n",
    "sensors_file = files_dir + 'locatus/gps_locaties_sensors.csv'\n",
    "locatus_file = files_dir + 'locatus/locatusdata_bewerkt.csv';"
   ]
  },
  {
   "cell_type": "code",
   "execution_count": null,
   "metadata": {},
   "outputs": [],
   "source": [
    "sens = read_csv(sensors_file, delimiter=';', decimal=',')\n",
    "sens"
   ]
  },
  {
   "cell_type": "code",
   "execution_count": null,
   "metadata": {},
   "outputs": [],
   "source": [
    "sensors = pd.DataFrame(sens, columns = ['sensor_id', 'latitude', 'longitude'])\n",
    "sensors"
   ]
  },
  {
   "cell_type": "code",
   "execution_count": null,
   "metadata": {},
   "outputs": [],
   "source": [
    "# Read rows in chunks\n",
    "locatus_chunks = 10 ** 6\n",
    "\n",
    "locatus_reader = pd.read_csv(locatus_file , chunksize = locatus_chunks\n",
    "                             , delimiter = ';', decimal = ',', header = 0, index_col = 0)\n",
    "\n",
    "for chunk in locatus_reader:\n",
    "    print(\"Data types:\")\n",
    "    print(chunk.dtypes)\n",
    "    \n",
    "    print(chunk)\n",
    "    break"
   ]
  },
  {
   "cell_type": "code",
   "execution_count": null,
   "metadata": {},
   "outputs": [],
   "source": [
    "# Try to count occurrences for all devices over all series\n",
    "from collections import Counter\n",
    "\n",
    "series = []\n",
    "\n",
    "idx=0\n",
    "for chunk in locatus_reader:\n",
    "    print(idx)\n",
    "    idx = idx + 1\n",
    "    serie = chunk['code_address'].value_counts()\n",
    "    break\n",
    "    # What comes next?\n",
    "    # https://pandas.pydata.org/pandas-docs/stable/merging.html\n",
    "    # https://stackoverflow.com/questions/24251219/pandas-read-csv-low-memory-and-dtype-options\n",
    "    series = dict(Counter(series)+Counter(serie))\n",
    "\n",
    "# For next slide we hope to have series in order\n",
    "series = serie\n",
    "\n",
    "print('code_address', 'count')\n",
    "print (series)\n",
    "print(type(series))\n",
    "\n",
    "\n",
    "# ?pd.read_csv"
   ]
  },
  {
   "cell_type": "code",
   "execution_count": null,
   "metadata": {},
   "outputs": [],
   "source": [
    "series.plot(use_index = False)"
   ]
  },
  {
   "cell_type": "code",
   "execution_count": null,
   "metadata": {},
   "outputs": [],
   "source": [
    "first_n = series.head(100)\n",
    "first_n.plot(use_index = False)"
   ]
  },
  {
   "cell_type": "code",
   "execution_count": null,
   "metadata": {},
   "outputs": [],
   "source": [
    "series.head(10)"
   ]
  },
  {
   "cell_type": "code",
   "execution_count": null,
   "metadata": {},
   "outputs": [],
   "source": [
    "# Hoe knoop je panda's aan elkaar\n",
    "\n",
    "# Code van https://github.com/KennisnetwerkDataScience/Wifi-punten-in-Leeuwarden/blob/master/Groep%202/test_read.py\n",
    "\n",
    "# only read in first 150000 rows\n",
    "df_locatus = pd.read_csv(locatus_file, sep = ';', nrows = 1250000)\n",
    "\n",
    "# position of each wifi sensor\n",
    "sensor_positions = pd.read_csv(sensors_file, sep=';', decimal=',')\n",
    "\n",
    "# join the sensor positions to the wifi data, so the locations are available in the dataframe\n",
    "df_joined = df_locatus.join(sensor_positions.set_index('sensor_id'), on='VirtualSensorCode')\n",
    "\n",
    "# count number of passages for each wifi point (not complete at the moment)\n",
    "print(df_joined.groupby(['VirtualSensorCode']).count().id)\n"
   ]
  }
 ],
 "metadata": {
  "kernelspec": {
   "display_name": "Python 3",
   "language": "python",
   "name": "python3"
  },
  "language_info": {
   "codemirror_mode": {
    "name": "ipython",
    "version": 3
   },
   "file_extension": ".py",
   "mimetype": "text/x-python",
   "name": "python",
   "nbconvert_exporter": "python",
   "pygments_lexer": "ipython3",
   "version": "3.6.5"
  }
 },
 "nbformat": 4,
 "nbformat_minor": 2
}
