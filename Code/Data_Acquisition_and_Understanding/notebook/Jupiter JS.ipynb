{
 "cells": [
  {
   "cell_type": "code",
   "execution_count": 7,
   "metadata": {},
   "outputs": [
    {
     "data": {
      "text/html": [
       "\n",
       "<html>\n",
       "  <head>\n",
       "    <script src=\"https://cdnjs.cloudflare.com/ajax/libs/p5.js/0.6.0/p5.min.js\"></script>\n",
       "    <script src=\"https://cdnjs.cloudflare.com/ajax/libs/p5.js/0.6.0/addons/p5.dom.min.js\"></script>\n",
       "  </head>\n",
       "  <body>\n",
       "    <script>\n",
       "    function setup() {\n",
       "        createCanvas(400, 400);\n",
       "        background(0);\n",
       "    }\n",
       "    alert(\"Hello\");\n",
       "    </script>\n",
       "  </body>\n",
       "</html>"
      ],
      "text/plain": [
       "<IPython.core.display.HTML object>"
      ]
     },
     "metadata": {},
     "output_type": "display_data"
    }
   ],
   "source": [
    "%%HTML\n",
    "\n",
    "<html>\n",
    "  <head>\n",
    "    <script src=\"https://cdnjs.cloudflare.com/ajax/libs/p5.js/0.6.0/p5.min.js\"></script>\n",
    "    <script src=\"https://cdnjs.cloudflare.com/ajax/libs/p5.js/0.6.0/addons/p5.dom.min.js\"></script>\n",
    "  </head>\n",
    "  <body>\n",
    "    <script>\n",
    "    function setup() {\n",
    "        createCanvas(400, 400);\n",
    "        background(0);\n",
    "    }\n",
    "    alert(\"Hello\");\n",
    "    </script>\n",
    "  </body>\n",
    "</html>"
   ]
  },
  {
   "cell_type": "code",
   "execution_count": null,
   "metadata": {},
   "outputs": [],
   "source": []
  }
 ],
 "metadata": {
  "kernelspec": {
   "display_name": "Python 3",
   "language": "python",
   "name": "python3"
  },
  "language_info": {
   "codemirror_mode": {
    "name": "ipython",
    "version": 3
   },
   "file_extension": ".py",
   "mimetype": "text/x-python",
   "name": "python",
   "nbconvert_exporter": "python",
   "pygments_lexer": "ipython3",
   "version": "3.6.5"
  }
 },
 "nbformat": 4,
 "nbformat_minor": 2
}
